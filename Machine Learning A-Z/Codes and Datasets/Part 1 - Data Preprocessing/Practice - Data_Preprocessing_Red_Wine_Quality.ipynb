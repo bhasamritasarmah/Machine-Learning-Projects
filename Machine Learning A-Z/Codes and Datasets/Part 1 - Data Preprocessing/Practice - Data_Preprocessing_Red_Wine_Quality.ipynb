{
  "nbformat": 4,
  "nbformat_minor": 0,
  "metadata": {
    "colab": {
      "provenance": []
    },
    "kernelspec": {
      "name": "python3",
      "display_name": "Python 3"
    },
    "language_info": {
      "name": "python"
    }
  },
  "cells": [
    {
      "cell_type": "markdown",
      "source": [
        "## WineQuality-Red Dataset\n",
        "\n",
        "The \"winequality-red.csv\" dataset contains various physicochemical properties of red wine samples along with their quality ratings. This dataset is often used for regression or classification tasks.\n",
        "\n",
        "Here are the details of its columns:\n",
        "\n",
        "1. **Fixed acidity**: The amount of fixed acids in the wine.\n",
        "2. **Volatile acidity**: The amount of volatile acids in the wine, which contribute to vinegar-like flavors.\n",
        "3. **Citric acid**: The amount of citric acid in the wine, which can add freshness and flavor.\n",
        "4. **Residual sugar**: The amount of residual sugar left after fermentation.\n",
        "5. **Chlorides**: The amount of chlorides in the wine, which can contribute to saltiness.\n",
        "6. **Free sulfur dioxide**: The amount of free sulfur dioxide in the wine, which acts as an antioxidant and antimicrobial agent.\n",
        "7. **Total sulfur dioxide**: The total amount of sulfur dioxide present in the wine.\n",
        "8. **Density**: The density of the wine, which is related to its alcohol content.\n",
        "9. **pH**: The pH level of the wine, which indicates its acidity or basicity.\n",
        "10. **Sulphates**: The amount of sulphates in the wine, which can contribute to its preservation and flavor enhancement.\n",
        "11. **Alcohol**: The alcohol content of the wine.\n",
        "12. **Quality**: The quality rating of the wine, ranging from 3 to 8. This is the target variable.\n",
        "\n",
        "Each row in the dataset represents a single red wine sample, with its corresponding physicochemical properties and quality rating.\n",
        "\n",
        "\n",
        "\n",
        "\n",
        "\n"
      ],
      "metadata": {
        "id": "XLo-Z6CHw5cv"
      }
    },
    {
      "cell_type": "markdown",
      "source": [
        "## Load the required libraries"
      ],
      "metadata": {
        "id": "vKrsQnnhPTrR"
      }
    },
    {
      "cell_type": "code",
      "execution_count": null,
      "metadata": {
        "id": "XEvmpp6Zw1E3"
      },
      "outputs": [],
      "source": [
        "import numpy as np\n",
        "import pandas as pd\n",
        "from sklearn.model_selection import train_test_split\n",
        "from sklearn.preprocessing import StandardScaler"
      ]
    },
    {
      "cell_type": "markdown",
      "source": [
        "## Load the dataset"
      ],
      "metadata": {
        "id": "jcihIlqxQU76"
      }
    },
    {
      "cell_type": "code",
      "source": [
        "dataset = pd.read_csv(\"winequality-red.csv\")\n",
        "print(dataset.columns)"
      ],
      "metadata": {
        "colab": {
          "base_uri": "https://localhost:8080/"
        },
        "id": "W-me1tu0QTx8",
        "outputId": "c5cc47f0-6934-4284-e0d4-3aa33befe1f3"
      },
      "execution_count": null,
      "outputs": [
        {
          "output_type": "stream",
          "name": "stdout",
          "text": [
            "Index(['fixed acidity', 'volatile acidity', 'citric acid', 'residual sugar',\n",
            "       'chlorides', 'free sulfur dioxide', 'total sulfur dioxide', 'density',\n",
            "       'pH', 'sulphates', 'alcohol', 'quality'],\n",
            "      dtype='object')\n"
          ]
        }
      ]
    },
    {
      "cell_type": "code",
      "source": [
        "print(dataset.head())"
      ],
      "metadata": {
        "colab": {
          "base_uri": "https://localhost:8080/"
        },
        "id": "dtQNm_SUSmRh",
        "outputId": "66413672-63f3-461f-9ec1-8caaf9632c50"
      },
      "execution_count": null,
      "outputs": [
        {
          "output_type": "stream",
          "name": "stdout",
          "text": [
            "   fixed acidity  volatile acidity  citric acid  residual sugar  chlorides  \\\n",
            "0            7.4              0.70         0.00             1.9      0.076   \n",
            "1            7.8              0.88         0.00             2.6      0.098   \n",
            "2            7.8              0.76         0.04             2.3      0.092   \n",
            "3           11.2              0.28         0.56             1.9      0.075   \n",
            "4            7.4              0.70         0.00             1.9      0.076   \n",
            "\n",
            "   free sulfur dioxide  total sulfur dioxide  density    pH  sulphates  \\\n",
            "0                 11.0                  34.0   0.9978  3.51       0.56   \n",
            "1                 25.0                  67.0   0.9968  3.20       0.68   \n",
            "2                 15.0                  54.0   0.9970  3.26       0.65   \n",
            "3                 17.0                  60.0   0.9980  3.16       0.58   \n",
            "4                 11.0                  34.0   0.9978  3.51       0.56   \n",
            "\n",
            "   alcohol  quality  \n",
            "0      9.4        5  \n",
            "1      9.8        5  \n",
            "2      9.8        5  \n",
            "3      9.8        6  \n",
            "4      9.4        5  \n"
          ]
        }
      ]
    },
    {
      "cell_type": "code",
      "source": [
        "X = dataset.iloc[:, :-1].values\n",
        "y = dataset.iloc[:, -1].values\n",
        "print(X.shape)"
      ],
      "metadata": {
        "colab": {
          "base_uri": "https://localhost:8080/"
        },
        "id": "rSQJzYg_Qxce",
        "outputId": "e753c591-c724-4dbd-8c3a-99516f96ff0c"
      },
      "execution_count": null,
      "outputs": [
        {
          "output_type": "stream",
          "name": "stdout",
          "text": [
            "(1599, 11)\n"
          ]
        }
      ]
    },
    {
      "cell_type": "markdown",
      "source": [
        "## Take care of missing values"
      ],
      "metadata": {
        "id": "Qf-oU597RVJ3"
      }
    },
    {
      "cell_type": "code",
      "source": [
        "null_values = dataset.isnull().sum()\n",
        "print(null_values)"
      ],
      "metadata": {
        "colab": {
          "base_uri": "https://localhost:8080/"
        },
        "id": "gNYSfduXRICO",
        "outputId": "e9db6092-24b2-4ca3-ba22-171be42d4245"
      },
      "execution_count": null,
      "outputs": [
        {
          "output_type": "stream",
          "name": "stdout",
          "text": [
            "fixed acidity           0\n",
            "volatile acidity        0\n",
            "citric acid             0\n",
            "residual sugar          0\n",
            "chlorides               0\n",
            "free sulfur dioxide     0\n",
            "total sulfur dioxide    0\n",
            "density                 0\n",
            "pH                      0\n",
            "sulphates               0\n",
            "alcohol                 0\n",
            "quality                 0\n",
            "dtype: int64\n"
          ]
        }
      ]
    },
    {
      "cell_type": "code",
      "source": [
        "nan_values = dataset.isna().sum()\n",
        "print(nan_values)"
      ],
      "metadata": {
        "colab": {
          "base_uri": "https://localhost:8080/"
        },
        "id": "-ME-FqJaRfE2",
        "outputId": "44cffa82-4f8b-4916-e11b-313ef290997f"
      },
      "execution_count": null,
      "outputs": [
        {
          "output_type": "stream",
          "name": "stdout",
          "text": [
            "fixed acidity           0\n",
            "volatile acidity        0\n",
            "citric acid             0\n",
            "residual sugar          0\n",
            "chlorides               0\n",
            "free sulfur dioxide     0\n",
            "total sulfur dioxide    0\n",
            "density                 0\n",
            "pH                      0\n",
            "sulphates               0\n",
            "alcohol                 0\n",
            "quality                 0\n",
            "dtype: int64\n"
          ]
        }
      ]
    },
    {
      "cell_type": "code",
      "source": [
        "zero_values = (dataset == 0).sum()\n",
        "print(zero_values)"
      ],
      "metadata": {
        "colab": {
          "base_uri": "https://localhost:8080/"
        },
        "id": "uXLc-VJkRnvX",
        "outputId": "1d2f6157-43c4-4036-c586-3f30e734239a"
      },
      "execution_count": null,
      "outputs": [
        {
          "output_type": "stream",
          "name": "stdout",
          "text": [
            "fixed acidity             0\n",
            "volatile acidity          0\n",
            "citric acid             132\n",
            "residual sugar            0\n",
            "chlorides                 0\n",
            "free sulfur dioxide       0\n",
            "total sulfur dioxide      0\n",
            "density                   0\n",
            "pH                        0\n",
            "sulphates                 0\n",
            "alcohol                   0\n",
            "quality                   0\n",
            "dtype: int64\n"
          ]
        }
      ]
    },
    {
      "cell_type": "code",
      "source": [
        "# Some wine may not contain citric acid at all, so the dataset doesn't have any missing values."
      ],
      "metadata": {
        "id": "wUazLkAXR4D4"
      },
      "execution_count": null,
      "outputs": []
    },
    {
      "cell_type": "markdown",
      "source": [
        "# Encoding categorical data"
      ],
      "metadata": {
        "id": "n-s80MpjSxHT"
      }
    },
    {
      "cell_type": "code",
      "source": [
        "# This dataset doesn't contain any categorical data, so no need to encode any data."
      ],
      "metadata": {
        "id": "3YykKiYbSb6r"
      },
      "execution_count": null,
      "outputs": []
    },
    {
      "cell_type": "markdown",
      "source": [
        "## Split the data into train and test set"
      ],
      "metadata": {
        "id": "sLjIVbzxTCNi"
      }
    },
    {
      "cell_type": "code",
      "source": [
        "X_train, X_test, y_train, y_test = train_test_split(X, y, test_size = 0.2, random_state = 42)\n",
        "print(X_train.shape)\n",
        "print(X_test.shape)"
      ],
      "metadata": {
        "colab": {
          "base_uri": "https://localhost:8080/"
        },
        "id": "dQLvHxwHS_jH",
        "outputId": "45a952cc-2465-4030-d4e2-ba2aee91e8be"
      },
      "execution_count": null,
      "outputs": [
        {
          "output_type": "stream",
          "name": "stdout",
          "text": [
            "(1279, 11)\n",
            "(320, 11)\n"
          ]
        }
      ]
    },
    {
      "cell_type": "markdown",
      "source": [
        "## Feature Scaling"
      ],
      "metadata": {
        "id": "tW3Z8LhCTsrW"
      }
    },
    {
      "cell_type": "code",
      "source": [
        "scaler = StandardScaler()\n",
        "X_train = scaler.fit_transform(X_train)\n",
        "X_test = scaler.transform(X_test)"
      ],
      "metadata": {
        "id": "FYznQQK8TmHw"
      },
      "execution_count": null,
      "outputs": []
    }
  ]
}