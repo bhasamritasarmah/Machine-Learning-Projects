{
  "nbformat": 4,
  "nbformat_minor": 0,
  "metadata": {
    "colab": {
      "provenance": []
    },
    "kernelspec": {
      "name": "python3",
      "display_name": "Python 3"
    },
    "language_info": {
      "name": "python"
    }
  },
  "cells": [
    {
      "cell_type": "markdown",
      "source": [
        "## The Titanic Dataset\n",
        "\n",
        "The \"Titanic dataset\" is a classic dataset used in data science and machine learning. It contains information about the passengers aboard the Titanic, including various attributes such as age, sex, ticket class, fare, and whether or not they survived the sinking of the Titanic.\n",
        "\n",
        "Here are the details of the columns in the Titanic dataset:\n",
        "\n",
        "1. **PassengerId**: A unique identifier for each passenger.\n",
        "2. **Survived**: Indicates whether the passenger survived or not. This is the target variable. It is binary: 0 for not survived, 1 for survived.\n",
        "3. **Pclass (Ticket class)**: Represents the class of the ticket purchased by the passenger, a proxy for socio-economic status.\n",
        "4. **Name**: The name of the passenger.\n",
        "5. **Sex**: The gender of the passenger.\n",
        "6. **Age**: The age of the passenger in years. (Some entries may be missing, denoted by \"NaN\".)\n",
        "7. **SibSp**: The number of siblings or spouses aboard the Titanic.\n",
        "8. **Parch**: The number of parents or children aboard the Titanic.\n",
        "9. **Ticket**: The ticket number.\n",
        "10. **Fare**: The fare paid by the passenger.\n",
        "11. **Cabin**: The cabin number occupied by the passenger. (Some entries may be missing, denoted by \"NaN\".)\n",
        "12. **Embarked**: The port of embarkation for the passenger. It can take one of the following values: <br>\n",
        "a. C: Cherbourg <br>\n",
        "b. Q: Queenstown (now known as Cobh) <br>\n",
        "c. S: Southampton\n",
        "\n"
      ],
      "metadata": {
        "id": "WFF4jzIHcHGA"
      }
    },
    {
      "cell_type": "markdown",
      "source": [
        "## Include all the required libraries"
      ],
      "metadata": {
        "id": "IL4noXap0CBR"
      }
    },
    {
      "cell_type": "code",
      "execution_count": 1,
      "metadata": {
        "id": "2arS_74qzUPa"
      },
      "outputs": [],
      "source": [
        "import numpy as np\n",
        "import pandas as pd\n",
        "import matplotlib.pyplot as plt\n",
        "from sklearn.impute import SimpleImputer\n",
        "from sklearn.compose import ColumnTransformer\n",
        "from sklearn.preprocessing import OneHotEncoder, LabelEncoder\n",
        "from sklearn.model_selection import train_test_split\n",
        "from sklearn.preprocessing import StandardScaler"
      ]
    },
    {
      "cell_type": "markdown",
      "source": [
        "## Load the Dataset"
      ],
      "metadata": {
        "id": "Cmw6UNjD0pcZ"
      }
    },
    {
      "cell_type": "code",
      "source": [
        "dataset = pd.read_csv(\"titanic.csv\")"
      ],
      "metadata": {
        "id": "wBnljP_R0dmL"
      },
      "execution_count": null,
      "outputs": []
    },
    {
      "cell_type": "code",
      "source": [
        "print(\"Total number of rows: \" + str(dataset.shape[0]))"
      ],
      "metadata": {
        "colab": {
          "base_uri": "https://localhost:8080/"
        },
        "id": "GrG54k3we91S",
        "outputId": "f7bf5614-9a0b-4afe-bbb1-74d7737eeed3"
      },
      "execution_count": null,
      "outputs": [
        {
          "output_type": "stream",
          "name": "stdout",
          "text": [
            "Total number of rows: 891\n"
          ]
        }
      ]
    },
    {
      "cell_type": "code",
      "source": [
        "column_data_types = dataset.dtypes\n",
        "categorical_column = column_data_types[column_data_types == \"object\"].index.tolist()\n",
        "print(categorical_column)"
      ],
      "metadata": {
        "colab": {
          "base_uri": "https://localhost:8080/"
        },
        "id": "aj9NKpsFm5Im",
        "outputId": "df22e771-4bd3-430e-da0d-f216896fa1d8"
      },
      "execution_count": null,
      "outputs": [
        {
          "output_type": "stream",
          "name": "stdout",
          "text": [
            "['Sex', 'Embarked']\n"
          ]
        }
      ]
    },
    {
      "cell_type": "markdown",
      "source": [
        "## Deleting the rows which are unnecessary for prediction\n",
        "\n",
        "1. **PassengerId**: Just an identifier for each passenger.\n",
        "2. **Name**: Name of the passenger.\n",
        "3. **Ticket**: Ticket numbers are arbitrary identifiers.\n",
        "4. **Cabin**: This attribute has a large number of missing values and may not be reliable or informative for predicting survival."
      ],
      "metadata": {
        "id": "LRYIuBGAfZoi"
      }
    },
    {
      "cell_type": "code",
      "source": [
        "attributes_to_drop = [\"PassengerId\", \"Name\", \"Ticket\", \"Cabin\"]\n",
        "dataset.drop(columns = attributes_to_drop, inplace = True)"
      ],
      "metadata": {
        "id": "eCugmmWMgtzs"
      },
      "execution_count": null,
      "outputs": []
    },
    {
      "cell_type": "markdown",
      "source": [
        "## Taking Care of Missing Values\n"
      ],
      "metadata": {
        "id": "g6tcjN8S1OC0"
      }
    },
    {
      "cell_type": "code",
      "source": [
        "null_count = dataset.isnull().sum()\n",
        "print(null_count)"
      ],
      "metadata": {
        "colab": {
          "base_uri": "https://localhost:8080/"
        },
        "id": "_fWC2YEh0-W4",
        "outputId": "ab93d335-5a90-4c0a-9d0d-9ed4e1452a5a"
      },
      "execution_count": null,
      "outputs": [
        {
          "output_type": "stream",
          "name": "stdout",
          "text": [
            "Survived      0\n",
            "Pclass        0\n",
            "Sex           0\n",
            "Age         177\n",
            "SibSp         0\n",
            "Parch         0\n",
            "Fare          0\n",
            "Embarked      2\n",
            "dtype: int64\n"
          ]
        }
      ]
    },
    {
      "cell_type": "code",
      "source": [
        "nan_count = dataset.isna().sum()\n",
        "print(nan_count)"
      ],
      "metadata": {
        "colab": {
          "base_uri": "https://localhost:8080/"
        },
        "id": "Hgql3VWn1M1d",
        "outputId": "874d00fd-dfb7-4268-ea92-ac59ef3f9806"
      },
      "execution_count": null,
      "outputs": [
        {
          "output_type": "stream",
          "name": "stdout",
          "text": [
            "Survived      0\n",
            "Pclass        0\n",
            "Sex           0\n",
            "Age         177\n",
            "SibSp         0\n",
            "Parch         0\n",
            "Fare          0\n",
            "Embarked      2\n",
            "dtype: int64\n"
          ]
        }
      ]
    },
    {
      "cell_type": "code",
      "source": [
        "mode_value = dataset[\"Embarked\"].mode()[0]\n",
        "print(mode_value)\n",
        "\n",
        "imputer = SimpleImputer(missing_values = np.nan, strategy = \"constant\", fill_value = mode_value)\n",
        "\n",
        "embarked_column = dataset[\"Embarked\"].values.reshape(-1, 1)\n",
        "embarked_column = imputer.fit_transform(embarked_column)\n",
        "dataset[\"Embarked\"] = embarked_column.flatten()"
      ],
      "metadata": {
        "id": "wqRkk3c85Wve",
        "colab": {
          "base_uri": "https://localhost:8080/"
        },
        "outputId": "ade3eddf-28b8-43f9-dddb-1a85af7205ef"
      },
      "execution_count": null,
      "outputs": [
        {
          "output_type": "stream",
          "name": "stdout",
          "text": [
            "S\n"
          ]
        }
      ]
    },
    {
      "cell_type": "code",
      "source": [
        "nan_count = dataset.isna().sum()\n",
        "print(nan_count)"
      ],
      "metadata": {
        "colab": {
          "base_uri": "https://localhost:8080/"
        },
        "id": "beUtJMKl5xIw",
        "outputId": "f0a787eb-5be7-4392-efc4-88a9f3381d06"
      },
      "execution_count": null,
      "outputs": [
        {
          "output_type": "stream",
          "name": "stdout",
          "text": [
            "Survived      0\n",
            "Pclass        0\n",
            "Sex           0\n",
            "Age         177\n",
            "SibSp         0\n",
            "Parch         0\n",
            "Fare          0\n",
            "Embarked      0\n",
            "dtype: int64\n"
          ]
        }
      ]
    },
    {
      "cell_type": "code",
      "source": [
        "imputer = SimpleImputer(missing_values = np.nan, strategy = \"mean\")\n",
        "\n",
        "age_column = dataset[\"Age\"].values.reshape(-1, 1)\n",
        "age_column = imputer.fit_transform(age_column)\n",
        "dataset[\"Age\"] = age_column.flatten()"
      ],
      "metadata": {
        "id": "COAZRSyo50E6"
      },
      "execution_count": null,
      "outputs": []
    },
    {
      "cell_type": "code",
      "source": [
        "nan_count = dataset.isna().sum()\n",
        "print(nan_count)"
      ],
      "metadata": {
        "colab": {
          "base_uri": "https://localhost:8080/"
        },
        "id": "lINeWS0E6Qdu",
        "outputId": "49bbc62c-f7ce-493a-9bd1-bc7921227938"
      },
      "execution_count": null,
      "outputs": [
        {
          "output_type": "stream",
          "name": "stdout",
          "text": [
            "Survived    0\n",
            "Pclass      0\n",
            "Sex         0\n",
            "Age         0\n",
            "SibSp       0\n",
            "Parch       0\n",
            "Fare        0\n",
            "Embarked    0\n",
            "dtype: int64\n"
          ]
        }
      ]
    },
    {
      "cell_type": "code",
      "source": [
        "X = dataset.iloc[:, 1:].values\n",
        "y = dataset.iloc[:, 0].values"
      ],
      "metadata": {
        "id": "Bs4nz4cR6Yt4"
      },
      "execution_count": null,
      "outputs": []
    },
    {
      "cell_type": "code",
      "source": [
        "print(X.shape)"
      ],
      "metadata": {
        "colab": {
          "base_uri": "https://localhost:8080/"
        },
        "id": "nb4CdAyxLvda",
        "outputId": "bf63323f-d96c-4d1b-8c9e-00aea3853a44"
      },
      "execution_count": null,
      "outputs": [
        {
          "output_type": "stream",
          "name": "stdout",
          "text": [
            "(891, 7)\n"
          ]
        }
      ]
    },
    {
      "cell_type": "code",
      "source": [
        "print(X[:5, :])"
      ],
      "metadata": {
        "colab": {
          "base_uri": "https://localhost:8080/"
        },
        "id": "J9Hrb2mqjR_2",
        "outputId": "4c97ccb3-b5c1-40e8-d5d6-0e99b8428220"
      },
      "execution_count": null,
      "outputs": [
        {
          "output_type": "stream",
          "name": "stdout",
          "text": [
            "[[3 'male' 22.0 1 0 7.25 'S']\n",
            " [1 'female' 38.0 1 0 71.2833 'C']\n",
            " [3 'female' 26.0 0 0 7.925 'S']\n",
            " [1 'female' 35.0 1 0 53.1 'S']\n",
            " [3 'male' 35.0 0 0 8.05 'S']]\n"
          ]
        }
      ]
    },
    {
      "cell_type": "code",
      "source": [
        "print(y.shape)"
      ],
      "metadata": {
        "colab": {
          "base_uri": "https://localhost:8080/"
        },
        "id": "Nlk15pSkLyFO",
        "outputId": "0a10dfc6-db67-4112-ef6b-2bab65419bb6"
      },
      "execution_count": null,
      "outputs": [
        {
          "output_type": "stream",
          "name": "stdout",
          "text": [
            "(891,)\n"
          ]
        }
      ]
    },
    {
      "cell_type": "markdown",
      "source": [
        "## Encoding Categorical Data"
      ],
      "metadata": {
        "id": "d-n3D1lF6sYr"
      }
    },
    {
      "cell_type": "code",
      "source": [
        "column_index = 0\n",
        "pclass_column = X[:, column_index]\n",
        "distinct_values = np.unique(pclass_column)\n",
        "print(distinct_values)"
      ],
      "metadata": {
        "colab": {
          "base_uri": "https://localhost:8080/"
        },
        "id": "BUZwpxi4kAy3",
        "outputId": "899a7577-f58a-4baf-a6ac-1f36c0800d90"
      },
      "execution_count": null,
      "outputs": [
        {
          "output_type": "stream",
          "name": "stdout",
          "text": [
            "[1 2 3]\n"
          ]
        }
      ]
    },
    {
      "cell_type": "code",
      "source": [
        "column_index = 1\n",
        "sex_column = X[:, column_index]\n",
        "distinct_values = np.unique(sex_column)\n",
        "print(distinct_values)"
      ],
      "metadata": {
        "colab": {
          "base_uri": "https://localhost:8080/"
        },
        "id": "Wi5-2lZK_B8b",
        "outputId": "4e27223e-8e93-4fb9-c099-9d456a37bd31"
      },
      "execution_count": null,
      "outputs": [
        {
          "output_type": "stream",
          "name": "stdout",
          "text": [
            "['female' 'male']\n"
          ]
        }
      ]
    },
    {
      "cell_type": "code",
      "source": [
        "column_index = 6\n",
        "embarked_column = X[:, column_index]\n",
        "distinct_values = np.unique(embarked_column)\n",
        "print(distinct_values)"
      ],
      "metadata": {
        "colab": {
          "base_uri": "https://localhost:8080/"
        },
        "id": "pbw2kVN-_tjU",
        "outputId": "83f7d1b1-3412-4c43-ef8d-de851ffb96d1"
      },
      "execution_count": null,
      "outputs": [
        {
          "output_type": "stream",
          "name": "stdout",
          "text": [
            "['C' 'Q' 'S']\n"
          ]
        }
      ]
    },
    {
      "cell_type": "code",
      "source": [
        "# Labeling the Sex columns with 0 and 1 values\n",
        "\n",
        "le_sex = LabelEncoder()\n",
        "X[:, 1] = le_sex.fit_transform(X[:, 1])\n",
        "print(np.unique(X[:, 1]))"
      ],
      "metadata": {
        "colab": {
          "base_uri": "https://localhost:8080/"
        },
        "id": "VcNWUbfL_7BY",
        "outputId": "f14b6a66-092f-424b-ec3b-4020287fd455"
      },
      "execution_count": null,
      "outputs": [
        {
          "output_type": "stream",
          "name": "stdout",
          "text": [
            "[0 1]\n"
          ]
        }
      ]
    },
    {
      "cell_type": "code",
      "source": [
        "  # One Hot Encoding the embarked column values\n",
        "  ct = ColumnTransformer(transformers = [(\"encoder\", OneHotEncoder(), [6])], remainder = \"passthrough\")\n",
        "  X = np.array(ct.fit_transform(X))"
      ],
      "metadata": {
        "id": "mXL5Q572HC-5"
      },
      "execution_count": null,
      "outputs": []
    },
    {
      "cell_type": "code",
      "source": [
        "print(X[0:5, :])"
      ],
      "metadata": {
        "colab": {
          "base_uri": "https://localhost:8080/"
        },
        "id": "szaB6orBLGYh",
        "outputId": "61b829fd-d89f-40ae-c2c5-291fff4a324b"
      },
      "execution_count": null,
      "outputs": [
        {
          "output_type": "stream",
          "name": "stdout",
          "text": [
            "[[0.0 0.0 1.0 3 1 22.0 1 0 7.25]\n",
            " [1.0 0.0 0.0 1 0 38.0 1 0 71.2833]\n",
            " [0.0 0.0 1.0 3 0 26.0 0 0 7.925]\n",
            " [0.0 0.0 1.0 1 0 35.0 1 0 53.1]\n",
            " [0.0 0.0 1.0 3 1 35.0 0 0 8.05]]\n"
          ]
        }
      ]
    },
    {
      "cell_type": "markdown",
      "source": [
        "## Splitting the dataset into training and test set"
      ],
      "metadata": {
        "id": "KyU2LbJQlFVk"
      }
    },
    {
      "cell_type": "code",
      "source": [
        "X_train, X_test, y_train, y_test = train_test_split(X, y, test_size = 0.2, random_state = 42)"
      ],
      "metadata": {
        "id": "p01WIQNrQeqP"
      },
      "execution_count": null,
      "outputs": []
    },
    {
      "cell_type": "code",
      "source": [
        "print(y_test[:10])"
      ],
      "metadata": {
        "colab": {
          "base_uri": "https://localhost:8080/"
        },
        "id": "dRi9v7i7ljOm",
        "outputId": "1f965ae6-f129-4aaf-a200-e5156868bb4d"
      },
      "execution_count": null,
      "outputs": [
        {
          "output_type": "stream",
          "name": "stdout",
          "text": [
            "[1 0 0 1 1 1 1 0 1 1]\n"
          ]
        }
      ]
    },
    {
      "cell_type": "code",
      "source": [
        "print(y_train[:10])"
      ],
      "metadata": {
        "colab": {
          "base_uri": "https://localhost:8080/"
        },
        "id": "c09og1tZlo3E",
        "outputId": "49d28412-bdd6-4e3a-c073-b1346c66e440"
      },
      "execution_count": null,
      "outputs": [
        {
          "output_type": "stream",
          "name": "stdout",
          "text": [
            "[0 0 0 0 0 0 0 0 0 1]\n"
          ]
        }
      ]
    },
    {
      "cell_type": "markdown",
      "source": [
        "## Feature Scaling"
      ],
      "metadata": {
        "id": "7BExe0yLlz5j"
      }
    },
    {
      "cell_type": "code",
      "source": [
        "scaler = StandardScaler()\n",
        "\n",
        "X_train[:, 3:] = scaler.fit_transform(X_train[:, 3:])\n",
        "X_test[:, 3:] = scaler.fit_transform(X_test[:, 3:])"
      ],
      "metadata": {
        "id": "97VnnGmBluES"
      },
      "execution_count": null,
      "outputs": []
    }
  ]
}