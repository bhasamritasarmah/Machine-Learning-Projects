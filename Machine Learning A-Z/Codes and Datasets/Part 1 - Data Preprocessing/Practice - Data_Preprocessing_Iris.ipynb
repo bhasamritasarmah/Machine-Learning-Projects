{
  "nbformat": 4,
  "nbformat_minor": 0,
  "metadata": {
    "colab": {
      "provenance": []
    },
    "kernelspec": {
      "name": "python3",
      "display_name": "Python 3"
    },
    "language_info": {
      "name": "python"
    }
  },
  "cells": [
    {
      "cell_type": "markdown",
      "source": [
        "## Iris Dataset\n",
        "\n",
        "The Iris dataset is a classic dataset in machine learning and statistics. It is often used for classification tasks, particularly in the context of supervised learning.\n",
        "\n",
        "The Iris dataset contains measurements of various characteristics of iris flowers belonging to three different species.\n",
        "\n",
        "Here are the details of the columns in the Iris dataset:\n",
        "\n",
        "1. **Sepal Length**: Length of the sepals (in centimeters).\n",
        "2. **Sepal Width**: Width of the sepals (in centimeters).\n",
        "3. **Petal Length**: Length of the petals (in centimeters).\n",
        "4. **Petal Width**: Width of the petals (in centimeters).\n",
        "5. **Species**: The species of the iris flower. It is the target variable and can take one of the following three values: <br>\n",
        "a. Iris-setosa <br>\n",
        "b. Iris-versicolor <br>\n",
        "c. Iris-virginica\n",
        "\n",
        "The dataset consists of 150 observations (samples), with each observation representing a different iris flower. There are 50 observations for each of the three species.\n",
        "\n",
        "\n",
        "\n",
        "\n",
        "\n"
      ],
      "metadata": {
        "id": "97mp0dbtIQCw"
      }
    },
    {
      "cell_type": "markdown",
      "source": [
        "## Importing the required libraries"
      ],
      "metadata": {
        "id": "lvRg-PSKycOx"
      }
    },
    {
      "cell_type": "code",
      "execution_count": null,
      "metadata": {
        "id": "rtf_jkjJyQFG"
      },
      "outputs": [],
      "source": [
        "import pandas as pd\n",
        "import numpy as np\n",
        "from sklearn.model_selection import train_test_split"
      ]
    },
    {
      "cell_type": "markdown",
      "source": [
        "## Loading the dataset"
      ],
      "metadata": {
        "id": "zjLfdL1e6JEz"
      }
    },
    {
      "cell_type": "code",
      "source": [
        "dataset = pd.read_csv(\"iris.csv\")\n",
        "X = dataset.iloc[:, :-1].values\n",
        "y = dataset.iloc[:, -1].values"
      ],
      "metadata": {
        "id": "GX4LYXd96Oqz"
      },
      "execution_count": null,
      "outputs": []
    },
    {
      "cell_type": "code",
      "source": [
        "print(dataset.columns)"
      ],
      "metadata": {
        "colab": {
          "base_uri": "https://localhost:8080/"
        },
        "id": "sXQplt9V6_B5",
        "outputId": "8db7afca-0e3d-4991-f38d-0dc50bab7277"
      },
      "execution_count": null,
      "outputs": [
        {
          "output_type": "stream",
          "name": "stdout",
          "text": [
            "Index(['sepal.length', 'sepal.width', 'petal.length', 'petal.width',\n",
            "       'variety'],\n",
            "      dtype='object')\n"
          ]
        }
      ]
    },
    {
      "cell_type": "code",
      "source": [
        "print(X.shape)"
      ],
      "metadata": {
        "colab": {
          "base_uri": "https://localhost:8080/"
        },
        "id": "fNIvHXH2xtKn",
        "outputId": "c9bb5fda-92f9-407a-dabb-18b2dc237d55"
      },
      "execution_count": null,
      "outputs": [
        {
          "output_type": "stream",
          "name": "stdout",
          "text": [
            "(150, 4)\n"
          ]
        }
      ]
    },
    {
      "cell_type": "code",
      "source": [
        "unique_values = dataset[\"variety\"].unique()\n",
        "print(unique_values)"
      ],
      "metadata": {
        "colab": {
          "base_uri": "https://localhost:8080/"
        },
        "id": "V4sGfkezxsIh",
        "outputId": "f3d60927-2802-4947-a021-fcf37f779e92"
      },
      "execution_count": null,
      "outputs": [
        {
          "output_type": "stream",
          "name": "stdout",
          "text": [
            "['Setosa' 'Versicolor' 'Virginica']\n"
          ]
        }
      ]
    },
    {
      "cell_type": "markdown",
      "source": [
        "## Taking Care of Missing Data"
      ],
      "metadata": {
        "id": "Qwy1Lv4V8H85"
      }
    },
    {
      "cell_type": "code",
      "source": [
        "# Check for null values in any column\n",
        "null_values = dataset.isnull().sum()\n",
        "print(null_values)"
      ],
      "metadata": {
        "id": "RsB7V7Dl7O9x",
        "colab": {
          "base_uri": "https://localhost:8080/"
        },
        "outputId": "07a0a6f5-5b0e-4a14-8cab-a933c16fa0cd"
      },
      "execution_count": null,
      "outputs": [
        {
          "output_type": "stream",
          "name": "stdout",
          "text": [
            "sepal.length    0\n",
            "sepal.width     0\n",
            "petal.length    0\n",
            "petal.width     0\n",
            "variety         0\n",
            "dtype: int64\n"
          ]
        }
      ]
    },
    {
      "cell_type": "code",
      "source": [
        "# Check for nan values in any column\n",
        "nan_values = dataset.isna().sum()\n",
        "print(nan_values)"
      ],
      "metadata": {
        "colab": {
          "base_uri": "https://localhost:8080/"
        },
        "id": "JWa_551W8au0",
        "outputId": "f55443fc-99fb-481c-f0a2-dac95c602eb0"
      },
      "execution_count": null,
      "outputs": [
        {
          "output_type": "stream",
          "name": "stdout",
          "text": [
            "sepal.length    0\n",
            "sepal.width     0\n",
            "petal.length    0\n",
            "petal.width     0\n",
            "variety         0\n",
            "dtype: int64\n"
          ]
        }
      ]
    },
    {
      "cell_type": "code",
      "source": [
        "# Check for 0 values in any column\n",
        "zero_values = (dataset == 0).sum()\n",
        "print(zero_values)"
      ],
      "metadata": {
        "colab": {
          "base_uri": "https://localhost:8080/"
        },
        "id": "x5C7CcXl8__d",
        "outputId": "07839238-46a6-458f-bcb0-b74d2cee7920"
      },
      "execution_count": null,
      "outputs": [
        {
          "output_type": "stream",
          "name": "stdout",
          "text": [
            "sepal.length    0\n",
            "sepal.width     0\n",
            "petal.length    0\n",
            "petal.width     0\n",
            "variety         0\n",
            "dtype: int64\n"
          ]
        }
      ]
    },
    {
      "cell_type": "code",
      "source": [
        "# Good to know that the iris dataset doesn't have any missing values."
      ],
      "metadata": {
        "id": "xviWsFsx9X-l"
      },
      "execution_count": null,
      "outputs": []
    },
    {
      "cell_type": "markdown",
      "source": [
        "## Encoding Categorical Data - the Dependent Variable"
      ],
      "metadata": {
        "id": "1xbUX-Gn-tkA"
      }
    },
    {
      "cell_type": "code",
      "source": [
        "from sklearn.preprocessing import LabelEncoder\n",
        "\n",
        "le = LabelEncoder()\n",
        "y = le.fit_transform(y)"
      ],
      "metadata": {
        "id": "gKittHj__DN7"
      },
      "execution_count": null,
      "outputs": []
    },
    {
      "cell_type": "code",
      "source": [
        "print (np.unique(y))"
      ],
      "metadata": {
        "colab": {
          "base_uri": "https://localhost:8080/"
        },
        "id": "Tm0xY2hz_dyD",
        "outputId": "88f5f3d4-d06f-4ce1-f1c0-386af39457b1"
      },
      "execution_count": null,
      "outputs": [
        {
          "output_type": "stream",
          "name": "stdout",
          "text": [
            "[0 1 2]\n"
          ]
        }
      ]
    },
    {
      "cell_type": "markdown",
      "source": [
        "## Splitting the Dataset into Training Set and Test Set"
      ],
      "metadata": {
        "id": "-wf3h7Ie_sK3"
      }
    },
    {
      "cell_type": "code",
      "source": [
        "from sklearn.model_selection import train_test_split\n",
        "\n",
        "X_train, X_test, y_train, y_test = train_test_split(X, y, test_size = 0.2, random_state = 42)"
      ],
      "metadata": {
        "id": "ulNb4vKO_22_"
      },
      "execution_count": null,
      "outputs": []
    },
    {
      "cell_type": "code",
      "source": [
        "print(X_train.shape)\n",
        "print(X_train[:5, :])"
      ],
      "metadata": {
        "colab": {
          "base_uri": "https://localhost:8080/"
        },
        "id": "g5QGk8ucAILZ",
        "outputId": "46fed607-273c-4c97-e809-b476f4d47252"
      },
      "execution_count": null,
      "outputs": [
        {
          "output_type": "stream",
          "name": "stdout",
          "text": [
            "(120, 4)\n",
            "[[4.6 3.6 1.  0.2]\n",
            " [5.7 4.4 1.5 0.4]\n",
            " [6.7 3.1 4.4 1.4]\n",
            " [4.8 3.4 1.6 0.2]\n",
            " [4.4 3.2 1.3 0.2]]\n"
          ]
        }
      ]
    },
    {
      "cell_type": "code",
      "source": [
        "print(X_test.shape)\n",
        "print(X_test[:5, :])"
      ],
      "metadata": {
        "colab": {
          "base_uri": "https://localhost:8080/"
        },
        "id": "4GVvd1i_AKMw",
        "outputId": "4ceb8083-a697-4c6a-b77b-5917fbd5a1b4"
      },
      "execution_count": null,
      "outputs": [
        {
          "output_type": "stream",
          "name": "stdout",
          "text": [
            "(30, 4)\n",
            "[[6.1 2.8 4.7 1.2]\n",
            " [5.7 3.8 1.7 0.3]\n",
            " [7.7 2.6 6.9 2.3]\n",
            " [6.  2.9 4.5 1.5]\n",
            " [6.8 2.8 4.8 1.4]]\n"
          ]
        }
      ]
    },
    {
      "cell_type": "code",
      "source": [
        "print(y_train[:10])"
      ],
      "metadata": {
        "colab": {
          "base_uri": "https://localhost:8080/"
        },
        "id": "r4AQT7FIANGl",
        "outputId": "e97a735b-fe3e-4788-fc70-0e3ce9670c21"
      },
      "execution_count": null,
      "outputs": [
        {
          "output_type": "stream",
          "name": "stdout",
          "text": [
            "[0 0 1 0 0 2 1 0 0 0]\n"
          ]
        }
      ]
    },
    {
      "cell_type": "code",
      "source": [
        "print(y_test[:10])"
      ],
      "metadata": {
        "colab": {
          "base_uri": "https://localhost:8080/"
        },
        "id": "V0_nErJQAREa",
        "outputId": "7fa69de1-fafc-469f-d6f0-84a324c9bcf6"
      },
      "execution_count": null,
      "outputs": [
        {
          "output_type": "stream",
          "name": "stdout",
          "text": [
            "[1 0 2 1 1 0 1 2 1 1]\n"
          ]
        }
      ]
    },
    {
      "cell_type": "markdown",
      "source": [
        "## Feature Scaling"
      ],
      "metadata": {
        "id": "nFj7Ak37AV7q"
      }
    },
    {
      "cell_type": "code",
      "source": [
        "from sklearn.preprocessing import StandardScaler\n",
        "\n",
        "scaler = StandardScaler()\n",
        "\n",
        "X_train = scaler.fit_transform(X_train)\n",
        "X_test = scaler.transform(X_test)"
      ],
      "metadata": {
        "id": "JWXPbeM1AT0t"
      },
      "execution_count": null,
      "outputs": []
    },
    {
      "cell_type": "code",
      "source": [
        "print(X_train[:5, :])"
      ],
      "metadata": {
        "colab": {
          "base_uri": "https://localhost:8080/"
        },
        "id": "OjbPP1vgA_4L",
        "outputId": "4a5f72e8-9e4d-4f25-b513-22e0c8c49bfb"
      },
      "execution_count": null,
      "outputs": [
        {
          "output_type": "stream",
          "name": "stdout",
          "text": [
            "[[-1.47393679  1.20365799 -1.56253475 -1.31260282]\n",
            " [-0.13307079  2.99237573 -1.27600637 -1.04563275]\n",
            " [ 1.08589829  0.08570939  0.38585821  0.28921757]\n",
            " [-1.23014297  0.75647855 -1.2187007  -1.31260282]\n",
            " [-1.7177306   0.30929911 -1.39061772 -1.31260282]]\n"
          ]
        }
      ]
    },
    {
      "cell_type": "code",
      "source": [
        "print(X_test[:5, :])"
      ],
      "metadata": {
        "colab": {
          "base_uri": "https://localhost:8080/"
        },
        "id": "Xb9lHWPNBDsC",
        "outputId": "62adb419-40aa-42f3-a7d6-a1258dda5775"
      },
      "execution_count": null,
      "outputs": [
        {
          "output_type": "stream",
          "name": "stdout",
          "text": [
            "[[ 0.35451684 -0.58505976  0.55777524  0.02224751]\n",
            " [-0.13307079  1.65083742 -1.16139502 -1.17911778]\n",
            " [ 2.30486738 -1.0322392   1.8185001   1.49058286]\n",
            " [ 0.23261993 -0.36147005  0.44316389  0.4227026 ]\n",
            " [ 1.2077952  -0.58505976  0.61508092  0.28921757]]\n"
          ]
        }
      ]
    }
  ]
}